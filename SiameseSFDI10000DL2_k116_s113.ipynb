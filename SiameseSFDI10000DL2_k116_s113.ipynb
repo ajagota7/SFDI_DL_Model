{
 "cells": [
  {
   "cell_type": "code",
   "execution_count": 1,
   "id": "7ccd28b0",
   "metadata": {},
   "outputs": [],
   "source": [
    "# Relevant libraries and functions\n",
    "from __future__ import print_function\n",
    "import random\n",
    "import matplotlib.pyplot as plt\n",
    "import scipy.ndimage\n",
    "import numpy as np, h5py\n",
    "import os, time, sys\n",
    "import tensorflow as tf\n",
    "import keras\n",
    "from keras.models import Model\n",
    "from keras.layers import BatchNormalization, Convolution2D, Input, SpatialDropout2D, UpSampling2D, MaxPooling2D, concatenate\n",
    "from keras.layers.core import Activation, Layer\n",
    "from keras.layers import Dense, Dropout, Conv1D, Input, Conv2D, add, Conv3D, Reshape\n",
    "from keras.callbacks import History, EarlyStopping, ModelCheckpoint, CSVLogger\n",
    "from itertools import cycle\n",
    "from sklearn import metrics\n",
    "import skimage\n",
    "from skimage.metrics import structural_similarity as ssim\n",
    "#from keras.optimizers import RMSprop\n",
    "from keras.optimizer_v2 import rmsprop\n",
    "#from keras.optimizer_v2 import RMSprop\n",
    "#from tensorflow.keras.optimizers import RMSprop\n",
    "from keras.utils import np_utils\n",
    "# from keras.backend.tensorflow_backend import set_session\n",
    "from keras.backend import set_session\n",
    "from keras.layers.convolutional import Convolution2D, MaxPooling2D, SeparableConv2D, Conv2DTranspose\n",
    "import pandas as pd\n",
    "import scipy.io\n",
    "\n",
    "from tensorflow.keras import layers\n",
    "from tensorflow.keras.models import Sequential, load_model"
   ]
  },
  {
   "cell_type": "code",
   "execution_count": 2,
   "id": "eb51259a",
   "metadata": {},
   "outputs": [
    {
     "name": "stdout",
     "output_type": "stream",
     "text": [
      "[PhysicalDevice(name='/physical_device:CPU:0', device_type='CPU'), PhysicalDevice(name='/physical_device:GPU:0', device_type='GPU')]\n"
     ]
    }
   ],
   "source": [
    "print(tf.config.experimental.list_physical_devices())"
   ]
  },
  {
   "cell_type": "code",
   "execution_count": 2,
   "id": "04b5e28f",
   "metadata": {},
   "outputs": [],
   "source": [
    "#import training data\n",
    "\n",
    "#f_data = '.../trainData' # Directory with trainging data\n",
    "f_data = r\"C:\\Users\\Arjun Jagota\\OneDrive - UHN\\Desktop\\SourceTreeGTx\\gtxDL\\DL4FLI-master\\FLINET_ex\\forwardSimulations\\DL2trainingData_10000\"\n",
    "stacks = os.listdir(f_data)\n",
    "numS = int(len(stacks))\n",
    "\n",
    "nF = 6 # Number of time-points\n",
    "xX = 81\n",
    "yY = 81\n",
    "nOP = 2\n",
    "\n",
    "sfdiD = np.ndarray(\n",
    "        (numS,  int(xX), int(yY), int(nF), int(1)), dtype=np.float32\n",
    "        )\n",
    "\n",
    "OP = np.ndarray(\n",
    "        (numS,  int(xX), int(yY),int(nOP)), dtype=np.float32\n",
    "        )\n",
    "depth = np.ndarray(\n",
    "        (numS, int(xX), int(yY), int(1)), dtype=np.float32\n",
    "        )\n",
    "qF = np.ndarray(\n",
    "        (numS, int(xX), int(yY), int(1)), dtype=np.float32\n",
    "        )"
   ]
  },
  {
   "cell_type": "code",
   "execution_count": 3,
   "id": "2c034574",
   "metadata": {},
   "outputs": [],
   "source": [
    "i = 0;\n",
    "for d in stacks:\n",
    "    # Save values to respective mapping\n",
    "    f = scipy.io.loadmat(os.path.join(f_data,d)) \n",
    "    sfdiD[i,:,:,:,0] = f['F']\n",
    "    f = scipy.io.loadmat(os.path.join(f_data,d)) \n",
    "    OP[i,:,:,:] = f['OP']\n",
    "    f = scipy.io.loadmat(os.path.join(f_data,d)) \n",
    "    depth[i,:,:,0] = f['Depth']\n",
    "    f = scipy.io.loadmat(os.path.join(f_data,d)) \n",
    "    qF[i,:,:,0] = f['QF']\n",
    "    i = i + 1\n",
    "\n",
    "sfdiD *=10**4\n",
    "OP[:,:,:,0] *=100\n",
    "OP[:,:,:,1]*=1/10\n",
    "qF *= 10**5\n",
    "\n",
    "\n"
   ]
  },
  {
   "cell_type": "code",
   "execution_count": 5,
   "id": "6a1cb8bc",
   "metadata": {},
   "outputs": [
    {
     "data": {
      "text/plain": [
       "0.44549194"
      ]
     },
     "execution_count": 5,
     "metadata": {},
     "output_type": "execute_result"
    }
   ],
   "source": [
    "# sfdiD.shape\n",
    "# # OPm.shape\n",
    "# # f_dat\n",
    "# sfdiD[100,:,:,:,0]\n",
    "# tR[1,:,:,0]\n",
    "# tR.shape\n",
    "# tR.shape\n",
    "# depth.shape\n",
    "# # sfdiD.shape\n",
    "# np.mean(OP[:,:,:,1])\n",
    "# # OP[:,:,:,1] *=10\n",
    "# sfdiD.shape\n",
    "# # np.mean(OP[:,:,:,1])\n",
    "# # fig = plt.figure(figsize=(10,10))\n",
    "# # ax1 = fig.add_subplot(2,2,1)\n",
    "# # # Predicted amplitude ratio\n",
    "# # p1 = ax1.imshow(OP[1], interpolation='nearest', vmin=.5, vmax=1.5)\n",
    "np.mean(qF)"
   ]
  },
  {
   "cell_type": "code",
   "execution_count": 4,
   "id": "8709edec",
   "metadata": {},
   "outputs": [],
   "source": [
    "# Relevant resblock functions (Keras API)\n",
    "def resblock_2D(num_filters, size_filter, x):\n",
    "    Fx = Conv2D(num_filters, size_filter, padding='same', activation=None)(x)\n",
    "    Fx = Activation('relu')(Fx)\n",
    "    Fx = Conv2D(num_filters, size_filter, padding='same', activation=None)(Fx)\n",
    "    output = add([Fx, x])\n",
    "    output = Activation('relu')(output)\n",
    "    return output\n",
    "\n",
    "def resblock_2D_BN(num_filters, size_filter, x):\n",
    "    Fx = Conv2D(num_filters, size_filter, padding='same', activation=None)(x)\n",
    "    Fx = BatchNormalization()(Fx)\n",
    "    Fx = Activation('relu')(Fx)\n",
    "    Fx = Conv2D(num_filters, size_filter, padding='same', activation=None)(Fx)\n",
    "    Fx = BatchNormalization()(Fx)\n",
    "    output = add([Fx, x])\n",
    "    #output = BatchNormalization()(output)\n",
    "    output = Activation('relu')(output)\n",
    "    return output\n",
    "\n",
    "def resblock_3D_BN(num_filters, size_filter, x):\n",
    "    Fx = Conv3D(num_filters, size_filter, padding='same', activation=None)(x)\n",
    "    Fx = BatchNormalization()(Fx)\n",
    "    Fx = Activation('relu')(Fx)\n",
    "    Fx = Conv3D(num_filters, size_filter, padding='same', activation=None)(Fx)\n",
    "    Fx = BatchNormalization()(Fx)\n",
    "    output = add([Fx, x])\n",
    "    #output = BatchNormalization()(output)\n",
    "    output = Activation('relu')(output)\n",
    "    return output\n",
    "\n",
    "def xCeptionblock_2D_BN(num_filters, size_filter, x):\n",
    "    Fx = SeparableConv2D(num_filters, size_filter, padding='same', activation=None)(x)\n",
    "    Fx = BatchNormalization()(Fx)\n",
    "    Fx = Activation('relu')(Fx)\n",
    "    Fx = SeparableConv2D(num_filters, size_filter, padding='same', activation=None)(Fx)\n",
    "    Fx = BatchNormalization()(Fx)\n",
    "    output = add([Fx, x])\n",
    "    output = Activation('relu')(output)\n",
    "    return output"
   ]
  },
  {
   "cell_type": "code",
   "execution_count": 5,
   "id": "58aa95b2",
   "metadata": {},
   "outputs": [],
   "source": [
    "xX = 81;\n",
    "yY = 81;\n",
    "nF = 6;\n",
    "\n",
    "OpData = Input(shape=(xX,yY,2))\n",
    "OpProp = OpData\n",
    "t_data = Input(shape=(xX, yY, nF,1))\n",
    "sfdi = t_data\n",
    "\n",
    "OpProp = Conv2D(256, 1, padding='same', activation=None, data_format=\"channels_last\")(OpProp)\n",
    "OpProp = Conv2D(128, 1, padding='same', activation=None, data_format=\"channels_last\")(OpProp)\n",
    "OpProp = Conv2D(128, 1, padding='same', activation=None, data_format=\"channels_last\")(OpProp)\n",
    "\n",
    "\n",
    "sfdi = Conv3D(50,kernel_size=(1,1,6),strides=(1,1,3), padding='same', activation=None, data_format=\"channels_last\")(sfdi)\n",
    "sfdi = BatchNormalization()(sfdi)\n",
    "sfdi = Activation('relu')(sfdi)\n",
    "sfdi = resblock_3D_BN(50, (1,1,3), sfdi)\n",
    "sfdi = Reshape((xX,yY,100))(sfdi)\n",
    "sfdi = Conv2D(256, 1, padding='same', activation=None, data_format=\"channels_last\")(sfdi)\n",
    "sfdi = Conv2D(256, 1, padding='same', activation=None, data_format=\"channels_last\")(sfdi)\n",
    "\n",
    "# concat = concatenate(axis=1)([OpProp, sfdi])\n",
    "concat = concatenate([OpProp,sfdi],axis=-1)\n",
    "concat = SeparableConv2D(512, 1, padding='same', activation=None, data_format=\"channels_last\")(concat)\n",
    "\n",
    "concat = resblock_2D_BN(512, 1, concat) #paper says 256 but it gives an error while 512 does not: \n",
    "# \"Operands could not be broadcast together with shapes (32, 32, 256) (32, 32, 512)\"\n",
    "concat = resblock_2D_BN(512, 1, concat) \n",
    "\n",
    "# Amplitude-Ratio branch\n",
    "imgqF = Conv2D(64, 1, padding='same', activation=None)(concat)\n",
    "imgqF = BatchNormalization()(imgqF)\n",
    "imgqF = Activation('relu')(imgqF)\n",
    "imgqF = Conv2D(32, 1, padding='same', activation=None)(imgqF)\n",
    "imgqF = BatchNormalization()(imgqF)\n",
    "imgqF = Activation('relu')(imgqF)\n",
    "imgqF = Conv2D(1, 1, padding='same', activation=None)(imgqF)\n",
    "imgqF = Activation('relu')(imgqF)\n",
    "\n",
    "# depth Branch \n",
    "imgdepth = Conv2D(64, 1, padding='same', activation=None)(concat)\n",
    "imgdepth = BatchNormalization()(imgdepth)\n",
    "imgdepth = Activation('relu')(imgdepth)\n",
    "imgdepth = Conv2D(32, 1, padding='same', activation=None)(imgdepth)\n",
    "imgdepth = BatchNormalization()(imgdepth)\n",
    "imgdepth = Activation('relu')(imgdepth)\n",
    "imgdepth = Conv2D(1, 1, padding='same', activation=None)(imgdepth)\n",
    "imgdepth = Activation('relu')(imgdepth)\n",
    "\n",
    "# rmsprop = rmsprop(lr=1e-5)\n",
    "# _in = [OpData, t_data]\n",
    "# _out = [imgqF, imgdepth]\n",
    "# modelD = Model(inputs=[OpData, t_data], outputs=[imgqF, imgdepth]) #, \n",
    "# rmspropV = rmsprop.RMSprop(learning_rate=1e-5)\n",
    "\n",
    "# modelD.compile(loss='mse',\n",
    "#               optimizer=rmspropV,\n",
    "#               metrics=['mae'])\n",
    "\n",
    "modelD = Model(inputs=[OpData,t_data], outputs=[imgqF, imgdepth])\n",
    "rmspropV = rmsprop.RMSprop(learning_rate=1e-5)\n",
    "\n",
    "modelD.compile(loss='mse',\n",
    "              optimizer=rmspropV,\n",
    "              metrics=['mae'])"
   ]
  },
  {
   "cell_type": "code",
   "execution_count": 6,
   "id": "26bee148",
   "metadata": {},
   "outputs": [
    {
     "name": "stdout",
     "output_type": "stream",
     "text": [
      "Epoch 1/500\n",
      "2000/2000 [==============================] - 281s 135ms/step - loss: 0.6252 - activation_9_loss: 0.4518 - activation_12_loss: 0.1734 - activation_9_mae: 0.1676 - activation_12_mae: 0.1077 - val_loss: 2.4006 - val_activation_9_loss: 1.9330 - val_activation_12_loss: 0.4676 - val_activation_9_mae: 0.2365 - val_activation_12_mae: 0.1383\n",
      "Epoch 2/500\n"
     ]
    },
    {
     "name": "stderr",
     "output_type": "stream",
     "text": [
      "C:\\Users\\Arjun Jagota\\miniconda3\\lib\\site-packages\\keras\\utils\\generic_utils.py:494: CustomMaskWarning: Custom mask layers require a config and must override get_config. When loading, the custom mask layer must be passed to the custom_objects argument.\n",
      "  warnings.warn('Custom mask layers require a config and must override '\n"
     ]
    },
    {
     "name": "stdout",
     "output_type": "stream",
     "text": [
      "2000/2000 [==============================] - 261s 131ms/step - loss: 0.4329 - activation_9_loss: 0.3176 - activation_12_loss: 0.1153 - activation_9_mae: 0.1385 - activation_12_mae: 0.0842 - val_loss: 3.7724 - val_activation_9_loss: 2.9107 - val_activation_12_loss: 0.8617 - val_activation_9_mae: 0.4646 - val_activation_12_mae: 0.2491\n",
      "Epoch 3/500\n",
      "2000/2000 [==============================] - 262s 131ms/step - loss: 0.3450 - activation_9_loss: 0.2406 - activation_12_loss: 0.1044 - activation_9_mae: 0.1170 - activation_12_mae: 0.0787 - val_loss: 4.3041 - val_activation_9_loss: 2.5353 - val_activation_12_loss: 1.7688 - val_activation_9_mae: 0.5015 - val_activation_12_mae: 0.1977\n",
      "Epoch 4/500\n",
      "2000/2000 [==============================] - 262s 131ms/step - loss: 0.3056 - activation_9_loss: 0.2139 - activation_12_loss: 0.0917 - activation_9_mae: 0.1087 - activation_12_mae: 0.0728 - val_loss: 6.1212 - val_activation_9_loss: 1.3242 - val_activation_12_loss: 4.7970 - val_activation_9_mae: 0.2775 - val_activation_12_mae: 0.1555\n",
      "Epoch 5/500\n",
      "2000/2000 [==============================] - 262s 131ms/step - loss: 0.2794 - activation_9_loss: 0.1944 - activation_12_loss: 0.0850 - activation_9_mae: 0.1020 - activation_12_mae: 0.0694 - val_loss: 3.7384 - val_activation_9_loss: 2.9025 - val_activation_12_loss: 0.8359 - val_activation_9_mae: 0.6533 - val_activation_12_mae: 0.2479\n",
      "Epoch 6/500\n",
      "2000/2000 [==============================] - 262s 131ms/step - loss: 0.2595 - activation_9_loss: 0.1811 - activation_12_loss: 0.0784 - activation_9_mae: 0.0966 - activation_12_mae: 0.0663 - val_loss: 3.4213 - val_activation_9_loss: 1.9685 - val_activation_12_loss: 1.4528 - val_activation_9_mae: 0.3981 - val_activation_12_mae: 0.2094\n",
      "Epoch 7/500\n",
      "2000/2000 [==============================] - 263s 131ms/step - loss: 0.2418 - activation_9_loss: 0.1678 - activation_12_loss: 0.0740 - activation_9_mae: 0.0922 - activation_12_mae: 0.0636 - val_loss: 1.9848 - val_activation_9_loss: 1.5376 - val_activation_12_loss: 0.4472 - val_activation_9_mae: 0.3079 - val_activation_12_mae: 0.1515\n",
      "Epoch 8/500\n",
      "2000/2000 [==============================] - 262s 131ms/step - loss: 0.2330 - activation_9_loss: 0.1621 - activation_12_loss: 0.0709 - activation_9_mae: 0.0907 - activation_12_mae: 0.0619 - val_loss: 5.5264 - val_activation_9_loss: 4.5516 - val_activation_12_loss: 0.9748 - val_activation_9_mae: 0.2122 - val_activation_12_mae: 0.1226\n",
      "Epoch 9/500\n",
      "2000/2000 [==============================] - 263s 131ms/step - loss: 0.2222 - activation_9_loss: 0.1534 - activation_12_loss: 0.0688 - activation_9_mae: 0.0873 - activation_12_mae: 0.0605 - val_loss: 2.6738 - val_activation_9_loss: 2.1490 - val_activation_12_loss: 0.5248 - val_activation_9_mae: 0.6045 - val_activation_12_mae: 0.3339\n",
      "Epoch 10/500\n",
      "2000/2000 [==============================] - 262s 131ms/step - loss: 0.2141 - activation_9_loss: 0.1486 - activation_12_loss: 0.0655 - activation_9_mae: 0.0852 - activation_12_mae: 0.0592 - val_loss: 3.7756 - val_activation_9_loss: 2.9864 - val_activation_12_loss: 0.7892 - val_activation_9_mae: 0.7380 - val_activation_12_mae: 0.3138\n",
      "Epoch 11/500\n",
      "2000/2000 [==============================] - 262s 131ms/step - loss: 0.1959 - activation_9_loss: 0.1337 - activation_12_loss: 0.0622 - activation_9_mae: 0.0809 - activation_12_mae: 0.0567 - val_loss: 2.8233 - val_activation_9_loss: 2.2980 - val_activation_12_loss: 0.5253 - val_activation_9_mae: 0.3498 - val_activation_12_mae: 0.2378\n",
      "Epoch 12/500\n",
      "2000/2000 [==============================] - 261s 131ms/step - loss: 0.1960 - activation_9_loss: 0.1329 - activation_12_loss: 0.0631 - activation_9_mae: 0.0802 - activation_12_mae: 0.0574 - val_loss: 3.1110 - val_activation_9_loss: 2.4584 - val_activation_12_loss: 0.6526 - val_activation_9_mae: 0.4764 - val_activation_12_mae: 0.3546\n",
      "Epoch 13/500\n",
      "2000/2000 [==============================] - 262s 131ms/step - loss: 0.1919 - activation_9_loss: 0.1326 - activation_12_loss: 0.0593 - activation_9_mae: 0.0784 - activation_12_mae: 0.0552 - val_loss: 2.2734 - val_activation_9_loss: 1.7031 - val_activation_12_loss: 0.5703 - val_activation_9_mae: 0.4295 - val_activation_12_mae: 0.3763\n",
      "Epoch 14/500\n",
      "2000/2000 [==============================] - 261s 131ms/step - loss: 0.1807 - activation_9_loss: 0.1226 - activation_12_loss: 0.0581 - activation_9_mae: 0.0766 - activation_12_mae: 0.0543 - val_loss: 3.9085 - val_activation_9_loss: 3.0491 - val_activation_12_loss: 0.8594 - val_activation_9_mae: 0.7733 - val_activation_12_mae: 0.3660\n",
      "Epoch 15/500\n",
      "2000/2000 [==============================] - 261s 131ms/step - loss: 0.1754 - activation_9_loss: 0.1189 - activation_12_loss: 0.0565 - activation_9_mae: 0.0748 - activation_12_mae: 0.0535 - val_loss: 3.7873 - val_activation_9_loss: 3.2212 - val_activation_12_loss: 0.5661 - val_activation_9_mae: 0.4476 - val_activation_12_mae: 0.4066\n",
      "Epoch 16/500\n",
      "2000/2000 [==============================] - 261s 131ms/step - loss: 0.1732 - activation_9_loss: 0.1162 - activation_12_loss: 0.0570 - activation_9_mae: 0.0740 - activation_12_mae: 0.0535 - val_loss: 3.7341 - val_activation_9_loss: 3.2223 - val_activation_12_loss: 0.5118 - val_activation_9_mae: 0.4154 - val_activation_12_mae: 0.3513\n",
      "Epoch 17/500\n",
      "2000/2000 [==============================] - 261s 131ms/step - loss: 0.1682 - activation_9_loss: 0.1135 - activation_12_loss: 0.0548 - activation_9_mae: 0.0725 - activation_12_mae: 0.0522 - val_loss: 2.6490 - val_activation_9_loss: 2.2627 - val_activation_12_loss: 0.3864 - val_activation_9_mae: 0.3153 - val_activation_12_mae: 0.2829\n",
      "Epoch 18/500\n",
      "2000/2000 [==============================] - 261s 131ms/step - loss: 0.1584 - activation_9_loss: 0.1058 - activation_12_loss: 0.0526 - activation_9_mae: 0.0702 - activation_12_mae: 0.0511 - val_loss: 3.3840 - val_activation_9_loss: 2.4659 - val_activation_12_loss: 0.9180 - val_activation_9_mae: 0.7666 - val_activation_12_mae: 0.6873\n",
      "Epoch 19/500\n",
      "2000/2000 [==============================] - 261s 131ms/step - loss: 0.1573 - activation_9_loss: 0.1042 - activation_12_loss: 0.0530 - activation_9_mae: 0.0693 - activation_12_mae: 0.0510 - val_loss: 2.4162 - val_activation_9_loss: 1.7852 - val_activation_12_loss: 0.6311 - val_activation_9_mae: 0.4957 - val_activation_12_mae: 0.5015\n",
      "Epoch 20/500\n",
      "2000/2000 [==============================] - 261s 131ms/step - loss: 0.1529 - activation_9_loss: 0.1020 - activation_12_loss: 0.0509 - activation_9_mae: 0.0682 - activation_12_mae: 0.0497 - val_loss: 3.8541 - val_activation_9_loss: 2.8175 - val_activation_12_loss: 1.0366 - val_activation_9_mae: 0.7970 - val_activation_12_mae: 0.6769\n",
      "Epoch 21/500\n",
      "2000/2000 [==============================] - 261s 131ms/step - loss: 0.1539 - activation_9_loss: 0.1047 - activation_12_loss: 0.0492 - activation_9_mae: 0.0685 - activation_12_mae: 0.0489 - val_loss: 3.4895 - val_activation_9_loss: 2.6928 - val_activation_12_loss: 0.7967 - val_activation_9_mae: 0.8353 - val_activation_12_mae: 0.6037\n",
      "Epoch 22/500\n",
      "2000/2000 [==============================] - 262s 131ms/step - loss: 0.1455 - activation_9_loss: 0.0967 - activation_12_loss: 0.0488 - activation_9_mae: 0.0661 - activation_12_mae: 0.0486 - val_loss: 2.4071 - val_activation_9_loss: 1.6725 - val_activation_12_loss: 0.7345 - val_activation_9_mae: 0.6047 - val_activation_12_mae: 0.6286\n"
     ]
    }
   ],
   "source": [
    "earlyStopping = EarlyStopping(monitor='val_loss', \n",
    "                              patience = 15, \n",
    "                              verbose = 0,\n",
    "                              mode = 'auto')\n",
    "\n",
    "fN = 'testName' # Assign some name for weights and training/validation loss curves here\n",
    "\n",
    "# Save loss curve (mse) and MAE information over all trained epochs. (monitor = '' can be changed to focus on other tau parameters)\n",
    "modelCheckPoint = ModelCheckpoint(filepath=fN+'.h5', \n",
    "                                  monitor='val_loss', \n",
    "                                  save_best_only=True, \n",
    "                                  verbose=0)\n",
    "# Train network (80/20 train/validation split, batch_size=20 recommended, nb_epoch may vary based on application)\n",
    "history = History()\n",
    "csv_logger = CSVLogger(fN+'.log')\n",
    "history = modelD.fit([OP, sfdiD], [qF, depth],\n",
    "          validation_split=0.2,\n",
    "          batch_size=4, epochs=500, verbose=1, shuffle=True, callbacks=[earlyStopping,csv_logger,modelCheckPoint])"
   ]
  },
  {
   "cell_type": "code",
   "execution_count": 7,
   "id": "a41bfd97",
   "metadata": {},
   "outputs": [],
   "source": [
    "modelD.load_weights(fN+'.h5')"
   ]
  },
  {
   "cell_type": "code",
   "execution_count": 8,
   "id": "8c3e5285",
   "metadata": {},
   "outputs": [],
   "source": [
    "modelD.save(\"modelDL2_10k_k116_s113.h5\")"
   ]
  },
  {
   "cell_type": "code",
   "execution_count": 4,
   "id": "9794c129",
   "metadata": {},
   "outputs": [],
   "source": [
    "# modelD.load_weights(\"modelDL2_10000.h5\")#10k_k113_s111.h5\")"
   ]
  },
  {
   "cell_type": "code",
   "execution_count": 11,
   "id": "44f54408",
   "metadata": {},
   "outputs": [],
   "source": [
    "t_data = r\"C:\\Users\\Arjun Jagota\\OneDrive - UHN\\Desktop\\SourceTreeGTx\\gtxDL\\DL4FLI-master\\FLINET_ex\\forwardSimulations\\DL2testData_50\"\n",
    "stacksT = os.listdir(t_data)\n",
    "numT = int(len(stacksT))\n",
    "\n",
    "nF = 6\n",
    "xX = 81\n",
    "yY = 81\n",
    "nOP = 2\n",
    "\n",
    "\n",
    "sfdiT = np.ndarray(\n",
    "        (numT, int(xX), int(yY), int(nF), int(1)), dtype=np.float32\n",
    "        )\n",
    "\n",
    "OPT = np.ndarray(\n",
    "        (numT, int(xX), int(yY), int(nOP)), dtype=np.float32\n",
    "        )\n",
    "depthT = np.ndarray(\n",
    "        (numT, int(xX), int(yY), int(1)), dtype=np.float32\n",
    "        )\n",
    "qFT = np.ndarray(\n",
    "        (numT, int(xX), int(yY), int(1)), dtype=np.float32\n",
    "        )\n",
    "\n",
    "    \n",
    "i = 0;\n",
    "for d in stacksT:\n",
    "    # Save values to respective mapping\n",
    "    f = scipy.io.loadmat(os.path.join(t_data,d)) \n",
    "    sfdiT[i,:,:,:,0] = f['F']\n",
    "    f = scipy.io.loadmat(os.path.join(t_data,d)) \n",
    "    OPT[i,:,:,:] = f['OP']\n",
    "    f = scipy.io.loadmat(os.path.join(t_data,d)) \n",
    "    depthT[i,:,:,0] = f['Depth']\n",
    "    f = scipy.io.loadmat(os.path.join(t_data,d)) \n",
    "    qFT[i,:,:,0] = f['QF']\n",
    "    i = i + 1    \n",
    "# sfdiT =  np.moveaxis(sfdiT, 1, -2)\n",
    "# OPT = np.moveaxis(OPT,1,-1)\n",
    "# OPT[:,:,:,1] *=100\n",
    "\n",
    "sfdiT *=10**4\n",
    "OPT[:,:,:,0] *=100\n",
    "OPT[:,:,:,1]*=1/10\n",
    "qFT *= 10**5"
   ]
  },
  {
   "cell_type": "code",
   "execution_count": null,
   "id": "52a4270c",
   "metadata": {},
   "outputs": [],
   "source": [
    "np.mean(qFT)"
   ]
  },
  {
   "cell_type": "code",
   "execution_count": null,
   "id": "f7365c3e",
   "metadata": {},
   "outputs": [],
   "source": [
    "tf.config.experimental.list_physical_devices()"
   ]
  },
  {
   "cell_type": "code",
   "execution_count": null,
   "id": "50de15c8",
   "metadata": {},
   "outputs": [],
   "source": [
    "from tensorflow.python.client import device_lib\n",
    "print(device_lib.list_local_devices())"
   ]
  },
  {
   "cell_type": "code",
   "execution_count": 12,
   "id": "98058ed6",
   "metadata": {},
   "outputs": [],
   "source": [
    "# Perform inference on test data with trained model\n",
    "testV = modelD.predict([OPT, sfdiT])\n",
    "qFP = testV[0] # Predicted qF values\n",
    "depthP = testV[1] # Predicted depth values"
   ]
  },
  {
   "cell_type": "code",
   "execution_count": 14,
   "id": "9f7bcf64",
   "metadata": {},
   "outputs": [],
   "source": [
    "qFPtrueScale = qFP*10**-5\n",
    "qFTtrueScale = qFT*10**-5"
   ]
  },
  {
   "cell_type": "code",
   "execution_count": 13,
   "id": "e5894aaf",
   "metadata": {},
   "outputs": [
    {
     "data": {
      "text/plain": [
       "4.232709e-06"
      ]
     },
     "execution_count": 13,
     "metadata": {},
     "output_type": "execute_result"
    }
   ],
   "source": [
    "np.mean(qFTtrueScale)"
   ]
  },
  {
   "cell_type": "code",
   "execution_count": null,
   "id": "9a065afb",
   "metadata": {},
   "outputs": [],
   "source": [
    "scipy.io.savemat('PredictedFluorescenceQuantificationDL2_10000.mat',{\"quantifiedFluorPredicted\":qFPtrueScale})"
   ]
  },
  {
   "cell_type": "code",
   "execution_count": null,
   "id": "25945151",
   "metadata": {},
   "outputs": [],
   "source": [
    "scipy.io.savemat('PredictedDepthDL2_10000.mat',{\"DepthPredicted\":depthP})"
   ]
  },
  {
   "cell_type": "code",
   "execution_count": null,
   "id": "de5c45a9",
   "metadata": {},
   "outputs": [],
   "source": [
    "np.mean(qFP[32,:,:])"
   ]
  },
  {
   "cell_type": "code",
   "execution_count": null,
   "id": "bd3dd27e",
   "metadata": {},
   "outputs": [],
   "source": [
    "# depthP *=10"
   ]
  },
  {
   "cell_type": "code",
   "execution_count": 26,
   "id": "7cff97ca",
   "metadata": {},
   "outputs": [
    {
     "data": {
      "text/plain": [
       "Text(0.5, 1.0, 'Ground Truth Depth (mm)')"
      ]
     },
     "execution_count": 26,
     "metadata": {},
     "output_type": "execute_result"
    },
    {
     "data": {
      "image/png": "[encoded data removed]",
      "text/plain": [
       "<Figure size 1080x1080 with 8 Axes>"
      ]
     },
     "metadata": {
      "needs_background": "light"
     },
     "output_type": "display_data"
    }
   ],
   "source": [
    "\n",
    "\n",
    "# Visualize example\n",
    "n = 32 # Number to illustrate w/ matplotlib\n",
    "fig = plt.figure(figsize=(15,15))\n",
    "ax1 = fig.add_subplot(2,2,1)\n",
    "# Predicted qF\n",
    "p1 = ax1.imshow(qFPtrueScale[n,:,:,0], interpolation='nearest', vmin=.0, vmax=10**-4)\n",
    "fig.colorbar(p1, ax=ax1)\n",
    "plt.title('Predicted Fluorescence Quantification')\n",
    "ax2 = fig.add_subplot(2,2,2)\n",
    "# G.T. quantified Fluorescence\n",
    "t1 = ax2.imshow(qFTtrueScale[n,:,:,0], interpolation='nearest', vmin=0, vmax=10**-4)\n",
    "fig.colorbar(t1, ax=ax2)\n",
    "plt.title('Ground Truth Fluorescence Quantification')\n",
    "ax3 = fig.add_subplot(2,2,3)\n",
    "# Predicted depth\n",
    "p2 = ax3.imshow(depthP[n,:,:,0], interpolation='nearest', vmin=0, vmax=5)\n",
    "fig.colorbar(p2, ax=ax3)\n",
    "plt.title('Predicted Depth (mm)')\n",
    "# G.T. depth\n",
    "ax4 = fig.add_subplot(2,2,4)\n",
    "t2 = ax4.imshow(depthT[n,:,:,0], interpolation='nearest', vmin=0, vmax=5)\n",
    "fig.colorbar(t2, ax=ax4)\n",
    "plt.title('Ground Truth Depth (mm)')\n"
   ]
  },
  {
   "cell_type": "code",
   "execution_count": null,
   "id": "7bded298",
   "metadata": {},
   "outputs": [],
   "source": [
    "from scipy import io"
   ]
  },
  {
   "cell_type": "code",
   "execution_count": null,
   "id": "3c2d880d",
   "metadata": {},
   "outputs": [],
   "source": [
    "np.mean(depthP[0])"
   ]
  },
  {
   "cell_type": "code",
   "execution_count": 27,
   "id": "ec5f930f",
   "metadata": {},
   "outputs": [
    {
     "data": {
      "text/plain": [
       "array([[0.01970057, 0.04080628, 0.03560751, ..., 0.00257584, 0.00257584,\n",
       "        0.05739369],\n",
       "       [0.00257584, 0.01970057, 0.        , ..., 0.00467077, 0.        ,\n",
       "        0.05348609],\n",
       "       [0.        , 0.        , 0.        , ..., 0.00257584, 0.        ,\n",
       "        0.        ],\n",
       "       ...,\n",
       "       [0.01415086, 0.        , 0.        , ..., 0.        , 0.        ,\n",
       "        0.03221231],\n",
       "       [0.01415086, 0.00834496, 0.01970057, ..., 0.        , 0.        ,\n",
       "        0.01415086],\n",
       "       [0.03044868, 0.00834496, 0.05182827, ..., 0.01970057, 0.01415086,\n",
       "        0.01970057]], dtype=float32)"
      ]
     },
     "execution_count": 27,
     "metadata": {},
     "output_type": "execute_result"
    },
    {
     "data": {
      "image/png": "[encoded data removed]",
      "text/plain": [
       "<Figure size 720x720 with 2 Axes>"
      ]
     },
     "metadata": {
      "needs_background": "light"
     },
     "output_type": "display_data"
    }
   ],
   "source": [
    "n=32\n",
    "Diff = depthP[n,:,:,0]-depthT[n,:,:,0]\n",
    "fig = plt.figure(figsize=(10,10))\n",
    "ax1 = fig.add_subplot(2,2,1)\n",
    "d1=ax1.imshow(Diff[:,:], interpolation='nearest', vmin=-5, vmax=1)\n",
    "fig.colorbar(d1, ax=ax1)\n",
    "Diff"
   ]
  },
  {
   "cell_type": "code",
   "execution_count": 17,
   "id": "3d05ddef",
   "metadata": {},
   "outputs": [],
   "source": [
    "zErr = np.zeros((numT,2))\n",
    "for e in range(numT):\n",
    "    zErr[e,0] = ssim(depthP[e,:,:,0],depthT[e,:,:,0],multichannel=True)\n",
    "    nZ = np.unique(depthT[e,:,:,0])\n",
    "    np.nonzero(nZ)\n",
    "    zErr[e,1] = nZ[1]\n",
    "\n",
    "    \n",
    "tErr = np.zeros((numT,2))\n",
    "for f in range(numT):\n",
    "    tErr[f,0] = ssim(qFP[f,:,:,0],qFT[f,:,:,0],multichannel=True)\n",
    "    nZ = np.unique(depthT[f,:,:,0])\n",
    "    np.nonzero(nZ)\n",
    "    tErr[f,1] = nZ[1]    "
   ]
  },
  {
   "cell_type": "code",
   "execution_count": 18,
   "id": "af62a01a",
   "metadata": {
    "scrolled": true
   },
   "outputs": [
    {
     "data": {
      "text/plain": [
       "Text(0.5, 1.0, 'Depth vs SSIM of depth images')"
      ]
     },
     "execution_count": 18,
     "metadata": {},
     "output_type": "execute_result"
    },
    {
     "data": {
      "image/png": "[encoded data removed]",
      "text/plain": [
       "<Figure size 432x288 with 1 Axes>"
      ]
     },
     "metadata": {
      "needs_background": "light"
     },
     "output_type": "display_data"
    }
   ],
   "source": [
    "plt.scatter(zErr[:,1],zErr[:,0])\n",
    "plt.xlabel('Depth (mm)')\n",
    "plt.ylabel('SSIM')\n",
    "plt.title('Depth vs SSIM of depth images')"
   ]
  },
  {
   "cell_type": "code",
   "execution_count": 19,
   "id": "d31fb156",
   "metadata": {},
   "outputs": [
    {
     "name": "stdout",
     "output_type": "stream",
     "text": [
      "Mean of depth SSIM: 0.6552825781565369\n",
      "Standard deviation of depth SSIM: 0.22818498428647757\n",
      "Mean of quantified Fluorescence SSIM: 0.6929167353201712\n",
      "Standard deviation of quantified Fluorescence SSIM: 0.23960819182565093\n"
     ]
    }
   ],
   "source": [
    "print(\"Mean of depth SSIM:\",np.mean(zErr[:,0]))\n",
    "print(\"Standard deviation of depth SSIM:\",np.std(zErr[:,0]))\n",
    "print(\"Mean of quantified Fluorescence SSIM:\",np.mean(tErr[:,0]))\n",
    "print(\"Standard deviation of quantified Fluorescence SSIM:\",np.std(tErr[:,0]))"
   ]
  },
  {
   "cell_type": "code",
   "execution_count": 20,
   "id": "4d987993",
   "metadata": {},
   "outputs": [
    {
     "data": {
      "text/plain": [
       "Text(0.5, 1.0, 'Depth vs SSIM of qF images')"
      ]
     },
     "execution_count": 20,
     "metadata": {},
     "output_type": "execute_result"
    },
    {
     "data": {
      "image/png": "[encoded data removed]",
      "text/plain": [
       "<Figure size 432x288 with 1 Axes>"
      ]
     },
     "metadata": {
      "needs_background": "light"
     },
     "output_type": "display_data"
    }
   ],
   "source": [
    "plt.scatter(tErr[:,1],tErr[:,0])\n",
    "plt.xlabel('Depth (mm)')\n",
    "plt.ylabel('SSIM')\n",
    "plt.title('Depth vs SSIM of qF images')"
   ]
  },
  {
   "cell_type": "code",
   "execution_count": 21,
   "id": "39ab6375",
   "metadata": {},
   "outputs": [
    {
     "data": {
      "text/plain": [
       "0.4403233567304903"
      ]
     },
     "execution_count": 21,
     "metadata": {},
     "output_type": "execute_result"
    }
   ],
   "source": [
    "ssim(depthP,depthT,multichannel=True)"
   ]
  },
  {
   "cell_type": "code",
   "execution_count": 23,
   "id": "b673199c",
   "metadata": {},
   "outputs": [
    {
     "data": {
      "text/plain": [
       "0.47538793700136145"
      ]
     },
     "execution_count": 23,
     "metadata": {},
     "output_type": "execute_result"
    }
   ],
   "source": [
    "ssim(qFP,qFT,multichannel=True)"
   ]
  },
  {
   "cell_type": "code",
   "execution_count": null,
   "id": "5f833905",
   "metadata": {},
   "outputs": [],
   "source": []
  },
  {
   "cell_type": "code",
   "execution_count": null,
   "id": "57c9daea",
   "metadata": {},
   "outputs": [],
   "source": []
  }
 ],
 "metadata": {
  "kernelspec": {
   "display_name": "Python 3 (ipykernel)",
   "language": "python",
   "name": "python3"
  },
  "language_info": {
   "codemirror_mode": {
    "name": "ipython",
    "version": 3
   },
   "file_extension": ".py",
   "mimetype": "text/x-python",
   "name": "python",
   "nbconvert_exporter": "python",
   "pygments_lexer": "ipython3",
   "version": "3.9.7"
  }
 },
 "nbformat": 4,
 "nbformat_minor": 5
}
